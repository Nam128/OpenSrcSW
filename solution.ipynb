{
 "cells": [
  {
   "cell_type": "code",
   "execution_count": 41,
   "id": "ea248d04",
   "metadata": {},
   "outputs": [
    {
     "ename": "TypeError",
     "evalue": "int() takes at most 2 arguments (3 given)",
     "output_type": "error",
     "traceback": [
      "\u001b[1;31m---------------------------------------------------------------------------\u001b[0m",
      "\u001b[1;31mTypeError\u001b[0m                                 Traceback (most recent call last)",
      "\u001b[1;32m<ipython-input-41-81f8341b7dc8>\u001b[0m in \u001b[0;36m<module>\u001b[1;34m\u001b[0m\n\u001b[0;32m      1\u001b[0m \u001b[0mp\u001b[0m\u001b[1;33m=\u001b[0m\u001b[1;36m0\u001b[0m\u001b[1;33m\u001b[0m\u001b[1;33m\u001b[0m\u001b[0m\n\u001b[0;32m      2\u001b[0m \u001b[0mq\u001b[0m\u001b[1;33m=\u001b[0m\u001b[1;36m0\u001b[0m\u001b[1;33m\u001b[0m\u001b[1;33m\u001b[0m\u001b[0m\n\u001b[1;32m----> 3\u001b[1;33m \u001b[1;32mclass\u001b[0m \u001b[0mPoint\u001b[0m\u001b[1;33m(\u001b[0m\u001b[0mp\u001b[0m\u001b[1;33m,\u001b[0m\u001b[0mq\u001b[0m\u001b[1;33m)\u001b[0m\u001b[1;33m:\u001b[0m\u001b[1;33m\u001b[0m\u001b[1;33m\u001b[0m\u001b[0m\n\u001b[0m\u001b[0;32m      4\u001b[0m \u001b[1;33m\u001b[0m\u001b[0m\n\u001b[0;32m      5\u001b[0m     \u001b[0mprint_a\u001b[0m \u001b[1;33m=\u001b[0m \u001b[1;34m\"\"\u001b[0m\u001b[1;33m\u001b[0m\u001b[1;33m\u001b[0m\u001b[0m\n",
      "\u001b[1;31mTypeError\u001b[0m: int() takes at most 2 arguments (3 given)"
     ]
    }
   ],
   "source": [
    "p=0\n",
    "q=0\n",
    "class Point(p,q):\n",
    "\n",
    "    print_a = \"\"\n",
    "    def __repr__(p,q):\n",
    "        self.print_a = \"({0:d},{1:d})\".format(p,q)\n",
    "\n",
    "    \n",
    "a = Point(1,2)\n",
    "a.show()\n",
    "\n",
    "b = Point(3,4)\n",
    "b.show()\n",
    "\n",
    "a=a+b\n",
    "a.show()"
   ]
  },
  {
   "cell_type": "code",
   "execution_count": 28,
   "id": "03a8a7c0",
   "metadata": {},
   "outputs": [
    {
     "name": "stdout",
     "output_type": "stream",
     "text": [
      "Max Week = 5/15 ~ 5/22\n"
     ]
    }
   ],
   "source": [
    "import matplotlib.pyplot as plt\n",
    "import numpy as np\n",
    "import pandas as pd\n",
    "import csv\n",
    "\n",
    "first_day = 1\n",
    "last_day = 7\n",
    "day = 1\n",
    "sum_s=0\n",
    "max_s=0\n",
    "\n",
    "table = pd.read_csv('seoul.csv', header=0,index_col=0, encoding='cp949')\n",
    "\n",
    "seoul = table.iloc[0,3] - table.iloc[0,2]\n",
    "for i in range(4):\n",
    "    sum_s=0\n",
    "    for j in range(7):\n",
    "        temp = table.iloc[day-1,3] - table.iloc[day-1,2]\n",
    "        sum_s = sum_s+temp\n",
    "        day = day + 1\n",
    "    if (sum_s>max_s):\n",
    "        max_s = sum_s\n",
    "        first_day  = day\n",
    "        last_day = day+7\n",
    "print(\"Max Week = 5/{0:d} ~ 5/{1:d}\".format(first_day, last_day))"
   ]
  },
  {
   "cell_type": "code",
   "execution_count": 68,
   "id": "5e6d07c2",
   "metadata": {},
   "outputs": [
    {
     "name": "stdout",
     "output_type": "stream",
     "text": [
      "[[2 2 0 1 1 1]\n",
      " [2 2 1 0 2 0]\n",
      " [2 2 0 1 1 0]]\n"
     ]
    },
    {
     "name": "stderr",
     "output_type": "stream",
     "text": [
      "<ipython-input-68-b7335e3ee036>:9: RuntimeWarning: invalid value encountered in true_divide\n",
      "  Cos = Docs*Query/(abs(Docs)*abs(Query))\n"
     ]
    },
    {
     "data": {
      "image/png": "[encoded data removed]",
      "text/plain": [
       "<Figure size 432x288 with 1 Axes>"
      ]
     },
     "metadata": {
      "needs_background": "light"
     },
     "output_type": "display_data"
    }
   ],
   "source": [
    "import numpy as np\n",
    "import matplotlib.pyplot as plt\n",
    "\n",
    "Docs = np.array([1,1,0,1,0,1,1,1,1,0,1,0,1,1,0,1,0,0]).reshape(3,6)\n",
    "Query = np.array([1,1,0,0,1,0])\n",
    "\n",
    "print(Docs+Query)\n",
    "\n",
    "Cos = Docs*Query/(abs(Docs)*abs(Query))\n",
    "\n",
    "Doc1 = np.array(Docs[0])\n",
    "Doc2 = np.array(Docs[1])\n",
    "Doc3 = np.array(Docs[2])\n",
    "\n",
    "plt.bar(Doc1, Query)\n",
    "plt.bar(Doc2, Query)\n",
    "plt.bar(Doc3, Query)\n",
    "plt.show()"
   ]
  },
  {
   "cell_type": "code",
   "execution_count": null,
   "id": "0490ffa4",
   "metadata": {},
   "outputs": [],
   "source": []
  }
 ],
 "metadata": {
  "kernelspec": {
   "display_name": "Python 3",
   "language": "python",
   "name": "python3"
  },
  "language_info": {
   "codemirror_mode": {
    "name": "ipython",
    "version": 3
   },
   "file_extension": ".py",
   "mimetype": "text/x-python",
   "name": "python",
   "nbconvert_exporter": "python",
   "pygments_lexer": "ipython3",
   "version": "3.9.5"
  }
 },
 "nbformat": 4,
 "nbformat_minor": 5
}
