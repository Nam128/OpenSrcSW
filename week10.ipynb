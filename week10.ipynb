{
 "cells": [
  {
   "cell_type": "code",
   "execution_count": 11,
   "id": "95da7c22",
   "metadata": {},
   "outputs": [
    {
     "name": "stdout",
     "output_type": "stream",
     "text": [
      "Numbers?10 456 78 87\n",
      "max = 456\n"
     ]
    }
   ],
   "source": [
    "num = input(\"Numbers?\")\n",
    "num = num.split(' ')\n",
    "a = 0\n",
    "for i in num:\n",
    "    i = int(i)\n",
    "    if (a<i):\n",
    "        a = i\n",
    "print(\"max =\", a)"
   ]
  },
  {
   "cell_type": "code",
   "execution_count": 41,
   "id": "302b7a93",
   "metadata": {},
   "outputs": [
    {
     "name": "stdout",
     "output_type": "stream",
     "text": [
      "암호화:0 \n",
      "복호화:1 \n",
      "1\n",
      "input String: efg bcd\n",
      "abc def \n"
     ]
    }
   ],
   "source": [
    "choose = int(input(\"암호화:0 \\n복호화:1 \\n\"))\n",
    "text = input(\"input String: \")\n",
    "text = text.split(' ')\n",
    "text.reverse()\n",
    "sum = ''\n",
    "if (choose==0):\n",
    "    for ch in text:\n",
    "        for i in ch: # def\n",
    "            k=ord(i)\n",
    "            k=k+1\n",
    "            i=chr(k)\n",
    "            sum=sum+i\n",
    "        sum=sum+' '\n",
    "        \n",
    "else:\n",
    "    for ch in text:\n",
    "        for i in ch:\n",
    "            k=ord(i)\n",
    "            k=k-1\n",
    "            i=chr(k)\n",
    "            sum=sum+i\n",
    "        sum=sum+' '\n",
    "print(sum)"
   ]
  },
  {
   "cell_type": "code",
   "execution_count": 47,
   "id": "c6be0a3c",
   "metadata": {},
   "outputs": [
    {
     "name": "stdout",
     "output_type": "stream",
     "text": [
      "input 10 people's name and tel-number\n",
      "abc\n",
      "123\n",
      "def\n",
      "456\n",
      "\n",
      "menu\n",
      " name(0)\n",
      " num(1)\n",
      "1\n",
      "num=?123\n",
      "abc\n"
     ]
    }
   ],
   "source": [
    "d = dict()\n",
    "print(\"input 10 people's name and tel-number\")\n",
    "for i in range(10):\n",
    "    name = input(\"\")\n",
    "    num = int(input(\"\"))\n",
    "    d[name]=num\n",
    "choose= int(input(\"\\nmenu\\n name(0)\\n num(1)\\n\"))\n",
    "if (choose==0):\n",
    "    find_name = input(\"name=?\")\n",
    "    print(d[find_name])\n",
    "else:\n",
    "    find_num = int(input(\"num=?\"))\n",
    "    print(list(d.keys())[list(d.values()).index(find_num)])"
   ]
  }
 ],
 "metadata": {
  "kernelspec": {
   "display_name": "Python 3",
   "language": "python",
   "name": "python3"
  },
  "language_info": {
   "codemirror_mode": {
    "name": "ipython",
    "version": 3
   },
   "file_extension": ".py",
   "mimetype": "text/x-python",
   "name": "python",
   "nbconvert_exporter": "python",
   "pygments_lexer": "ipython3",
   "version": "3.9.4"
  }
 },
 "nbformat": 4,
 "nbformat_minor": 5
}
