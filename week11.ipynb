{
 "cells": [
  {
   "cell_type": "code",
   "execution_count": 14,
   "id": "930bf030",
   "metadata": {},
   "outputs": [],
   "source": [
    "f1 = open('file1.txt','r')\n",
    "data = f1.read()\n",
    "f1.close()\n",
    "\n",
    "f2 = open('file2.txt', 'w')\n",
    "f2.write(data)\n",
    "f2.close()"
   ]
  },
  {
   "cell_type": "code",
   "execution_count": 52,
   "id": "8a44e2d6",
   "metadata": {
    "scrolled": false
   },
   "outputs": [
    {
     "name": "stdout",
     "output_type": "stream",
     "text": [
      "# of words: 238\n",
      "# of lines: 3\n"
     ]
    },
    {
     "data": {
      "text/plain": [
       "['뜨거운지라, 가지에 이상 그리하였는가? 이상의 있는 새 불러 피가 사랑의 인간의 이것이다. 과실이 못하다 찾아 예가 이는 이상, 봄바람이다. 튼튼하며, 이 청춘에서만 같이 때문이다. 불어 구할 무엇이 황금시대를 반짝이는 피고 것이다. 이상, 산야에 따뜻한 행복스럽고 무한한 어디 두손을 낙원을 현저하게 약동하다. 청춘 목숨을 쓸쓸한 밥을 별과 피고, 눈에 만물은 위하여서. 그와 천지는 피고, 그들은 위하여서. 설레는 되려니와, 그들은 맺어, 고동을 대고, 것이다. 불어 있을 방황하였으며, 얼음이 부패를 얼음 돋고, 것은 뭇 끓는다. 무엇을 천하를 곧 귀는 피는 황금시대다.',\n",
       " '따뜻한 인생을 주는 이상 뿐이다. 얼마나 같이 보이는 긴지라 사는가 것이다. 같지 얼음 이상은 때까지 새가 위하여, 힘차게 것이다. 황금시대의 인생에 봄바람을 황금시대를 뛰노는 옷을 끝에 인간의 피가 아름다우냐? 광야에서 풀이 열매를 그들에게 살았으며, 곧 용감하고 같이 사막이다. 스며들어 우는 이성은 피어나는 무엇이 사막이다. 인간이 예가 힘차게 끓는 사는가 생생하며, 대중을 군영과 힘있다. 긴지라 오직 불어 품고 것은 끓는 사랑의 역사를 것이다. 실현에 청춘의 없는 몸이 갑 우리 되는 때문이다. 살았으며, 무한한 장식하는 없으면 기쁘며, 지혜는 안고, 풀이 하여도 힘있다. 예수는 가는 남는 있는 우는 우리의 그들의 아름다우냐?',\n",
       " '것은 눈이 그들은 품에 그들에게 살았으며, 위하여서, 이것이다. 인간의 못하다 피가 끓는다. 청춘은 가치를 시들어 구하지 말이다. 있으며, 산야에 그들은 그들의 이상의 피가 품고 봄바람이다. 능히 가지에 속잎나고, 소담스러운 것이다. 이상 맺어, 동력은 원대하고, 새 광야에서 돋고, 인생의 사막이다. 바로 만천하의 사랑의 인생을 만물은 노년에게서 없으면 뭇 것이다. 새가 이것은 귀는 사랑의 스며들어 착목한는 아니한 이것이다. 위하여서, 동산에는 청춘의 눈에 어디 되는 장식하는 이것이다. 너의 동산에는 그들은 봄바람을 그들은 그들은 그러므로 것이다.']"
      ]
     },
     "execution_count": 52,
     "metadata": {},
     "output_type": "execute_result"
    }
   ],
   "source": [
    "f1 = open('file1.txt', 'r')\n",
    "data = f1.read()\n",
    "enterList = data.split('\\n')\n",
    "data = data.replace('\\n',' ')\n",
    "spaceList = data.split(' ')\n",
    "for i in range(spaceList.count('')):\n",
    "    spaceList.remove('')\n",
    "for i in range(enterList.count('')):\n",
    "    enterList.remove('')\n",
    "\n",
    "print(\"# of words:\", len(spaceList))\n",
    "print(\"# of lines:\", len(enterList))"
   ]
  },
  {
   "cell_type": "code",
   "execution_count": 59,
   "id": "15644f37",
   "metadata": {},
   "outputs": [],
   "source": [
    "class Calc:\n",
    "    def sum(self, a, b):\n",
    "        result = a + b\n",
    "        print(\"{0:s}+{1:s}={2:s}입니다.\".format(a, b, result))\n",
    "    def sub(self, a, b):\n",
    "        result = a - b\n",
    "        print(\"{0:s}-{1:s}={2:s}입니다.\".format(a, b, result))\n",
    "    def multi(self, a, b):\n",
    "        result= a * b\n",
    "        print(\"{0:s}X{1:s}={2:s}입니다.\".format(a, b, result))\n",
    "    def divi(self, a, b):\n",
    "        result = a / b\n",
    "        print(\"{0:s}/{1:s}={2:s}입니다.\".format(a, b, result))"
   ]
  },
  {
   "cell_type": "code",
   "execution_count": 13,
   "id": "c8fb498c",
   "metadata": {},
   "outputs": [
    {
     "name": "stdout",
     "output_type": "stream",
     "text": [
      "tokens :  [1, '+', 2, '-', '(', 3, '*', 4, ')', '+', 5]\n",
      "postfix :  [1, 2, '+', 3, 4, '*', '-', 5, '+']\n",
      "1 + 2 - ( 3 * 4 ) + 5  =  -4\n"
     ]
    }
   ],
   "source": [
    "class ArrayStack:\n",
    "\n",
    "    def __init__(self):\n",
    "        self.data = []\n",
    "\n",
    "    def size(self):\n",
    "        return len(self.data)\n",
    "\n",
    "    def isEmpty(self):\n",
    "        return self.size() == 0\n",
    "\n",
    "    def push(self, item):\n",
    "        self.data.append(item)\n",
    "\n",
    "    def pop(self):\n",
    "        return self.data.pop()\n",
    "\n",
    "    def peek(self):\n",
    "        return self.data[-1]\n",
    "\n",
    "\n",
    "\n",
    "def infixTopostfix(tokenList): #중위 표현식을 후위 표현식으로 변환\n",
    "    prec = {\n",
    "        '*': 3,\n",
    "        '/': 3,\n",
    "        '+': 2,\n",
    "        '-': 2,\n",
    "        '(': 1,\n",
    "    }\n",
    "\n",
    "    opStack = ArrayStack()\n",
    "    postfixList = []\n",
    "\n",
    "    for token in tokenList:\n",
    "        if type(token) is int:\n",
    "            postfixList.append(token)         \n",
    "        elif token == ')':\n",
    "            if token == ')':\n",
    "                while opStack.peek() != '(':\n",
    "                #print(opStack.peek())\n",
    "                    postfixList.append(opStack.pop())\n",
    "                opStack.pop()\n",
    "        else:\n",
    "            if opStack.isEmpty() == False:  \n",
    "                if prec[opStack.peek()] >= prec[token] and token != '(':\n",
    "                    postfixList.append(opStack.pop())\n",
    "                    opStack.push(token)\n",
    "                elif prec[opStack.peek()] >= prec[token] and token == '(':\n",
    "                    opStack.push(token)\n",
    "                else:\n",
    "                    opStack.push(token)\n",
    "            elif opStack.isEmpty() == True:\n",
    "                opStack.push(token)\n",
    "\n",
    "    while not opStack.isEmpty():\n",
    "        postfixList.append(opStack.pop())\n",
    "\n",
    "    return postfixList\n",
    "\n",
    "def splitTokens(exprStr): # 식을 배열로 바꾸며 연산기호를 str으로, 피연산자를 int형식으로 저장한다.\n",
    "    tokens = []\n",
    "    val = 0\n",
    "    valProcessing = False\n",
    "    for c in exprStr:\n",
    "        if c == ' ':\n",
    "            continue\n",
    "        if c in '0123456789':\n",
    "            val = val*10+int(c)\n",
    "            valProcessing = True\n",
    "        else:\n",
    "            if valProcessing:\n",
    "                tokens.append(val)\n",
    "                val = 0\n",
    "            valProcessing = False\n",
    "            tokens.append(c)\n",
    "    if valProcessing:\n",
    "        tokens.append(val)\n",
    "    return tokens\n",
    "\n",
    "\n",
    "def postfixEval(tokenList): #후위 표현식 계산\n",
    "    opStack = ArrayStack()\n",
    "    for token in tokenList:\n",
    "        if type(token) is int:\n",
    "            opStack.push(token)\n",
    "        elif token == '*':\n",
    "            tmp1 = opStack.pop()\n",
    "            tmp2 = opStack.pop()\n",
    "            opStack.push(tmp2*tmp1)\n",
    "        elif token == '/':\n",
    "            tmp1 = opStack.pop()\n",
    "            tmp2 = opStack.pop()\n",
    "            opStack.push(tmp2/tmp1)\n",
    "        elif token == '+':\n",
    "            tmp1 = opStack.pop()\n",
    "            tmp2 = opStack.pop()\n",
    "            opStack.push(tmp2+tmp1)\n",
    "        elif token == '-':\n",
    "            tmp1 = opStack.pop()\n",
    "            tmp2 = opStack.pop()\n",
    "            opStack.push(tmp2-tmp1)\n",
    "    return opStack.pop()\n",
    "\n",
    "\n",
    "\n",
    "def solution(expr):\n",
    "    tokens = splitTokens(expr) #문자열을 토큰화 시키는 함수\n",
    "    print(\"tokens : \", tokens)\n",
    "    postfix = infixTopostfix(tokens) #중위 표현식 > 후위 표현식\n",
    "    print(\"postfix : \", postfix)\n",
    "    res = postfixEval(postfix) #후위 표현식 계산\n",
    "    return res\n",
    "\n",
    "def main():\n",
    "    quest = '1 + 2 - ( 3 * 4 ) + 5'\n",
    "    ans = solution(quest)\n",
    "    print(quest, \" = \",ans)\n",
    "\n",
    "if __name__ == '__main__':\n",
    "    main()"
   ]
  }
 ],
 "metadata": {
  "kernelspec": {
   "display_name": "Python 3",
   "language": "python",
   "name": "python3"
  },
  "language_info": {
   "codemirror_mode": {
    "name": "ipython",
    "version": 3
   },
   "file_extension": ".py",
   "mimetype": "text/x-python",
   "name": "python",
   "nbconvert_exporter": "python",
   "pygments_lexer": "ipython3",
   "version": "3.9.4"
  }
 },
 "nbformat": 4,
 "nbformat_minor": 5
}
