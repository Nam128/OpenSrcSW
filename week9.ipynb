{
 "cells": [
  {
   "cell_type": "code",
   "execution_count": 8,
   "id": "75c83758",
   "metadata": {},
   "outputs": [
    {
     "name": "stdout",
     "output_type": "stream",
     "text": [
      "x값을 입력하시오: 1\n",
      "y는 11입니다.\n"
     ]
    }
   ],
   "source": [
    "x = int(input(\"x값을 입력하시오: \"))\n",
    "y = 3*x**2+5*x+3\n",
    "print(\"y는 {0:d}입니다.\".format(y))"
   ]
  },
  {
   "cell_type": "code",
   "execution_count": 11,
   "id": "567a7a82",
   "metadata": {},
   "outputs": [
    {
     "name": "stdout",
     "output_type": "stream",
     "text": [
      "원의 반지름을 입력하시오: 2\n",
      "원의 둘레는 12.56이고, 원의 넓이는 12.56입니다.\n"
     ]
    }
   ],
   "source": [
    "pi = 3.14\n",
    "r = int(input(\"원의 반지름을 입력하시오: \"))\n",
    "l = 2*pi*r\n",
    "s = pi*r**2\n",
    "print(\"원의 둘레는 {0:.2f}이고, 원의 넓이는 {1:.2f}입니다.\".format(l, s))"
   ]
  }
 ],
 "metadata": {
  "kernelspec": {
   "display_name": "Python 3",
   "language": "python",
   "name": "python3"
  },
  "language_info": {
   "codemirror_mode": {
    "name": "ipython",
    "version": 3
   },
   "file_extension": ".py",
   "mimetype": "text/x-python",
   "name": "python",
   "nbconvert_exporter": "python",
   "pygments_lexer": "ipython3",
   "version": "3.9.4"
  }
 },
 "nbformat": 4,
 "nbformat_minor": 5
}
